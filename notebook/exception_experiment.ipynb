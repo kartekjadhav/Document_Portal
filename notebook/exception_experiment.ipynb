{
 "cells": [
  {
   "cell_type": "code",
   "execution_count": 1,
   "id": "9a39dec8",
   "metadata": {},
   "outputs": [
    {
     "name": "stdout",
     "output_type": "stream",
     "text": [
      "all_ok\n"
     ]
    }
   ],
   "source": [
    "print(\"all_ok\")"
   ]
  },
  {
   "cell_type": "code",
   "execution_count": null,
   "id": "a8674695",
   "metadata": {},
   "outputs": [],
   "source": [
    "import os\n",
    "import traceback"
   ]
  },
  {
   "cell_type": "code",
   "execution_count": 8,
   "id": "6428c9a1",
   "metadata": {},
   "outputs": [],
   "source": [
    "from logger.custom_logger import CustomLogger\n",
    "logger = CustomLogger(\"exception_experiment\").get_logger()"
   ]
  },
  {
   "cell_type": "code",
   "execution_count": 9,
   "id": "714aa8de",
   "metadata": {},
   "outputs": [
    {
     "ename": "DocumentPortalException",
     "evalue": "\n            Error in /tmp/ipykernel_2825/392023346.py at line 21\n            Message: division by zero\n            Traceback:\n            Traceback (most recent call last):\n  File \"/tmp/ipykernel_2825/392023346.py\", line 21, in <module>\n    a = 1 / 0  # This will raise a ZeroDivisionError\nZeroDivisionError: division by zero\n\n        ",
     "output_type": "error",
     "traceback": [
      "\u001b[0;31m---------------------------------------------------------------------------\u001b[0m",
      "\u001b[0;31mZeroDivisionError\u001b[0m                         Traceback (most recent call last)",
      "Cell \u001b[0;32mIn[9], line 21\u001b[0m\n\u001b[1;32m     20\u001b[0m \u001b[38;5;28;01mtry\u001b[39;00m:\n\u001b[0;32m---> 21\u001b[0m     a \u001b[38;5;241m=\u001b[39m \u001b[38;5;241;43m1\u001b[39;49m\u001b[43m \u001b[49m\u001b[38;5;241;43m/\u001b[39;49m\u001b[43m \u001b[49m\u001b[38;5;241;43m0\u001b[39;49m  \u001b[38;5;66;03m# This will raise a ZeroDivisionError\u001b[39;00m\n\u001b[1;32m     22\u001b[0m \u001b[38;5;28;01mexcept\u001b[39;00m \u001b[38;5;167;01mException\u001b[39;00m \u001b[38;5;28;01mas\u001b[39;00m e:\n",
      "\u001b[0;31mZeroDivisionError\u001b[0m: division by zero",
      "\nDuring handling of the above exception, another exception occurred:\n",
      "\u001b[0;31mDocumentPortalException\u001b[0m                   Traceback (most recent call last)",
      "Cell \u001b[0;32mIn[9], line 25\u001b[0m\n\u001b[1;32m     23\u001b[0m app_exec \u001b[38;5;241m=\u001b[39m DocumentPortalException(e, sys)\n\u001b[1;32m     24\u001b[0m logger\u001b[38;5;241m.\u001b[39merror(app_exec)\n\u001b[0;32m---> 25\u001b[0m \u001b[38;5;28;01mraise\u001b[39;00m app_exec\n",
      "\u001b[0;31mDocumentPortalException\u001b[0m: \n            Error in /tmp/ipykernel_2825/392023346.py at line 21\n            Message: division by zero\n            Traceback:\n            Traceback (most recent call last):\n  File \"/tmp/ipykernel_2825/392023346.py\", line 21, in <module>\n    a = 1 / 0  # This will raise a ZeroDivisionError\nZeroDivisionError: division by zero\n\n        "
     ]
    }
   ],
   "source": [
    "import sys\n",
    "class DocumentPortalException(Exception):\n",
    "    \"\"\"Base class for all exceptions in Document Portal.\"\"\"\n",
    "    def __init__(self, error_message, error_details:sys):\n",
    "        _, _, exec_tb = error_details.exc_info()\n",
    "        self.file_name = exec_tb.tb_frame.f_code.co_filename\n",
    "        self.line_number = exec_tb.tb_lineno\n",
    "        self.error_message = str(error_message)\n",
    "        self.traceback_str = \"\".join(traceback.format_exception(*error_details.exc_info()))\n",
    "\n",
    "    def __str__(self):\n",
    "        return f\"\"\"\n",
    "            Error in {self.file_name} at line {self.line_number}\n",
    "            Message: {self.error_message}\n",
    "            Traceback:\n",
    "            {self.traceback_str}\n",
    "        \"\"\"\n",
    "\n",
    "if __name__ == \"__main__\":\n",
    "    try:\n",
    "        a = 1 / 0  # This will raise a ZeroDivisionError\n",
    "    except Exception as e:\n",
    "        app_exec = DocumentPortalException(e, sys)\n",
    "        logger.error(app_exec)\n",
    "        raise app_exec"
   ]
  }
 ],
 "metadata": {
  "kernelspec": {
   "display_name": "Python 3",
   "language": "python",
   "name": "python3"
  },
  "language_info": {
   "codemirror_mode": {
    "name": "ipython",
    "version": 3
   },
   "file_extension": ".py",
   "mimetype": "text/x-python",
   "name": "python",
   "nbconvert_exporter": "python",
   "pygments_lexer": "ipython3",
   "version": "3.10.18"
  }
 },
 "nbformat": 4,
 "nbformat_minor": 5
}
